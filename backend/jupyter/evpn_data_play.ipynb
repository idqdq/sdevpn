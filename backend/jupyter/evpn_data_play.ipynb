{
 "metadata": {
  "language_info": {
   "codemirror_mode": {
    "name": "ipython",
    "version": 3
   },
   "file_extension": ".py",
   "mimetype": "text/x-python",
   "name": "python",
   "nbconvert_exporter": "python",
   "pygments_lexer": "ipython3",
   "version": "3.8.5-final"
  },
  "orig_nbformat": 2,
  "kernelspec": {
   "name": "python3",
   "display_name": "Python 3"
  }
 },
 "nbformat": 4,
 "nbformat_minor": 2,
 "cells": [
  {
   "cell_type": "code",
   "execution_count": 1,
   "metadata": {},
   "outputs": [],
   "source": [
    "from netconf_data_class import evpn_data\n",
    "from ypath import ppxml"
   ]
  },
  {
   "cell_type": "code",
   "execution_count": 2,
   "metadata": {},
   "outputs": [],
   "source": [
    "evpn10 = evpn_data(333, 10333, '10.3.3.3/24', mtu=9000, mgroup='230.1.1.3')"
   ]
  },
  {
   "cell_type": "code",
   "execution_count": 3,
   "metadata": {},
   "outputs": [],
   "source": [
    "#evpn10.__dict__"
   ]
  },
  {
   "cell_type": "code",
   "execution_count": 4,
   "metadata": {},
   "outputs": [],
   "source": [
    "conf_xml = evpn10.get_rpc_ypath_create()\n",
    "get_xml = evpn10.get_rpc_ypath_get()\n",
    "delete_xml = evpn10.get_rpc_ypath_remove()"
   ]
  },
  {
   "cell_type": "code",
   "execution_count": 5,
   "metadata": {},
   "outputs": [
    {
     "output_type": "stream",
     "name": "stdout",
     "text": [
      "<?xml version=\"1.0\" ?>\n<config>\n    <System xmlns=\"http://cisco.com/ns/yang/cisco-nx-os-device\">\n        <bd-items>\n            <bd-items>\n                <BD-list operation=\"replace\">\n                    <fabEncap>vlan-333</fabEncap>\n                    <name>l2VNI-10333</name>\n                    <id>333</id>\n                    <accEncap>vxlan-10333</accEncap>\n                    <BdState>active</BdState>\n                    <adminSt>active</adminSt>\n                    <bridgeMode>mac</bridgeMode>\n                    <fwdCtrl>mdst-flood</fwdCtrl>\n                    <fwdMode>bridge,route</fwdMode>\n                    <mode>CE</mode>\n                </BD-list>\n            </bd-items>\n        </bd-items>\n        <intf-items>\n            <svi-items>\n                <If-list operation=\"replace\">\n                    <id>vlan333</id>\n                    <mtu>9000</mtu>\n                    <descr>anycast SVI</descr>\n                    <adminSt>up</adminSt>\n                    <rtvrfMbr-items>\n                        <tDn>/System/inst-items/Inst-list[name='Tenant-1']</tDn>\n                    </rtvrfMbr-items>\n                </If-list>\n            </svi-items>\n        </intf-items>\n        <ipv4-items>\n            <inst-items>\n                <dom-items>\n                    <Dom-list>\n                        <name>Tenant-1</name>\n                        <if-items>\n                            <If-list operation=\"replace\">\n                                <id>vlan333</id>\n                                <addr-items>\n                                    <Addr-list>\n                                        <addr>10.3.3.3/24</addr>\n                                    </Addr-list>\n                                </addr-items>\n                            </If-list>\n                        </if-items>\n                    </Dom-list>\n                </dom-items>\n            </inst-items>\n        </ipv4-items>\n        <hmm-items>\n            <fwdinst-items>\n                <if-items>\n                    <FwdIf-list operation=\"replace\">\n                        <id>vlan333</id>\n                        <adminSt>enabled</adminSt>\n                        <mode>anycastGW</mode>\n                    </FwdIf-list>\n                </if-items>\n            </fwdinst-items>\n        </hmm-items>\n        <eps-items>\n            <epId-items>\n                <Ep-list>\n                    <epId>1</epId>\n                    <nws-items>\n                        <vni-items>\n                            <Nw-list operation=\"replace\">\n                                <vni>10333</vni>\n                                <mcastGroup>230.1.1.3</mcastGroup>\n                            </Nw-list>\n                        </vni-items>\n                    </nws-items>\n                </Ep-list>\n            </epId-items>\n        </eps-items>\n        <evpn-items>\n            <bdevi-items>\n                <BDEvi-list operation=\"replace\">\n                    <encap>vxlan-10333</encap>\n                    <rd>rd:unknown:0:0</rd>\n                    <rttp-items>\n                        <RttP-list>\n                            <type>export</type>\n                            <ent-items>\n                                <RttEntry-list>\n                                    <rtt>route-target:unknown:0:0</rtt>\n                                </RttEntry-list>\n                            </ent-items>\n                        </RttP-list>\n                    </rttp-items>\n                </BDEvi-list>\n            </bdevi-items>\n        </evpn-items>\n        <evpn-items>\n            <bdevi-items>\n                <BDEvi-list>\n                    <encap>vxlan-10333</encap>\n                    <rd>rd:unknown:0:0</rd>\n                    <rttp-items>\n                        <RttP-list>\n                            <type>import</type>\n                            <ent-items>\n                                <RttEntry-list>\n                                    <rtt>route-target:unknown:0:0</rtt>\n                                </RttEntry-list>\n                            </ent-items>\n                        </RttP-list>\n                    </rttp-items>\n                </BDEvi-list>\n            </bdevi-items>\n        </evpn-items>\n    </System>\n</config>\n\n<?xml version=\"1.0\" ?>\n<System xmlns=\"http://cisco.com/ns/yang/cisco-nx-os-device\">\n    <bd-items>\n        <bd-items>\n            <BD-list>\n                <fabEncap>vlan-333</fabEncap>\n            </BD-list>\n        </bd-items>\n    </bd-items>\n    <intf-items>\n        <svi-items>\n            <If-list>\n                <id>vlan333</id>\n            </If-list>\n        </svi-items>\n    </intf-items>\n    <ipv4-items>\n        <inst-items>\n            <dom-items>\n                <Dom-list>\n                    <name>Tenant-1</name>\n                    <if-items>\n                        <If-list>\n                            <id>vlan333</id>\n                        </If-list>\n                    </if-items>\n                </Dom-list>\n            </dom-items>\n        </inst-items>\n    </ipv4-items>\n    <hmm-items>\n        <fwdinst-items>\n            <if-items>\n                <FwdIf-list>\n                    <id>vlan333</id>\n                </FwdIf-list>\n            </if-items>\n        </fwdinst-items>\n    </hmm-items>\n    <eps-items>\n        <epId-items>\n            <Ep-list>\n                <epId>1</epId>\n                <nws-items>\n                    <vni-items>\n                        <Nw-list>\n                            <vni>10333</vni>\n                        </Nw-list>\n                    </vni-items>\n                </nws-items>\n            </Ep-list>\n        </epId-items>\n    </eps-items>\n    <evpn-items>\n        <bdevi-items>\n            <BDEvi-list>\n                <encap>vxlan-10333</encap>\n            </BDEvi-list>\n        </bdevi-items>\n    </evpn-items>\n</System>\n\n<?xml version=\"1.0\" ?>\n<config>\n    <System xmlns=\"http://cisco.com/ns/yang/cisco-nx-os-device\">\n        <bd-items>\n            <bd-items>\n                <BD-list operation=\"remove\">\n                    <fabEncap>vlan-333</fabEncap>\n                </BD-list>\n            </bd-items>\n        </bd-items>\n        <intf-items>\n            <svi-items>\n                <If-list operation=\"remove\">\n                    <id>vlan333</id>\n                </If-list>\n            </svi-items>\n        </intf-items>\n        <ipv4-items>\n            <inst-items>\n                <dom-items>\n                    <Dom-list>\n                        <name>Tenant-1</name>\n                        <if-items>\n                            <If-list operation=\"remove\">\n                                <id>vlan333</id>\n                            </If-list>\n                        </if-items>\n                    </Dom-list>\n                </dom-items>\n            </inst-items>\n        </ipv4-items>\n        <hmm-items>\n            <fwdinst-items>\n                <if-items>\n                    <FwdIf-list operation=\"remove\">\n                        <id>vlan333</id>\n                    </FwdIf-list>\n                </if-items>\n            </fwdinst-items>\n        </hmm-items>\n        <eps-items>\n            <epId-items>\n                <Ep-list>\n                    <epId>1</epId>\n                    <nws-items>\n                        <vni-items>\n                            <Nw-list operation=\"remove\">\n                                <vni>10333</vni>\n                            </Nw-list>\n                        </vni-items>\n                    </nws-items>\n                </Ep-list>\n            </epId-items>\n        </eps-items>\n        <evpn-items>\n            <bdevi-items>\n                <BDEvi-list operation=\"remove\">\n                    <encap>vxlan-10333</encap>\n                </BDEvi-list>\n            </bdevi-items>\n        </evpn-items>\n    </System>\n</config>\n\n"
     ]
    }
   ],
   "source": [
    "ppxml(conf_xml)\n",
    "ppxml(get_xml)\n",
    "ppxml(delete_xml)"
   ]
  },
  {
   "cell_type": "code",
   "execution_count": null,
   "metadata": {},
   "outputs": [],
   "source": []
  }
 ]
}