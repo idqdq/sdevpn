{
 "cells": [
  {
   "cell_type": "code",
   "execution_count": 7,
   "metadata": {},
   "outputs": [
    {
     "output_type": "stream",
     "name": "stdout",
     "text": [
      "<?xml version=\"1.0\" ?>\n<System xmlns=\"http://cisco.com/ns/yang/cisco-nx-os-device\">\n    <intf-items>\n        <svi-items>\n            <If-list operation=\"replace\">\n                <id>vlan111</id>\n                <mtu>9000</mtu>\n                <descr>blablabla</descr>\n                <adminSt>up</adminSt>\n                <rtvrfMbr-items>\n                    <tDn>/System/inst-items/Inst-list[name='Tenant-1']</tDn>\n                </rtvrfMbr-items>\n            </If-list>\n        </svi-items>\n    </intf-items>\n</System>\n\n"
     ]
    }
   ],
   "source": [
    "from ypath import ypath2xml, ppxml\n",
    "xmlns = \"http://cisco.com/ns/yang/cisco-nx-os-device\"\n",
    "xpath = \"/System/intf-items/svi-items/If-list[]/id=vlan111/mtu=9000/descr=blablabla/adminSt=up/rtvrfMbr-items/tDn=//System//inst-items//Inst-list[name='Tenant-1']\"\n",
    "\n",
    "ppxml(ypath2xml(xpath, xmlns=xmlns, operation=\"replace\"))"
   ]
  },
  {
   "cell_type": "code",
   "execution_count": null,
   "metadata": {},
   "outputs": [],
   "source": []
  }
 ],
 "metadata": {
  "kernelspec": {
   "display_name": "Python 3",
   "language": "python",
   "name": "python3"
  },
  "language_info": {
   "codemirror_mode": {
    "name": "ipython",
    "version": 3
   },
   "file_extension": ".py",
   "mimetype": "text/x-python",
   "name": "python",
   "nbconvert_exporter": "python",
   "pygments_lexer": "ipython3",
   "version": "3.8.5-final"
  }
 },
 "nbformat": 4,
 "nbformat_minor": 4
}