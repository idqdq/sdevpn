{
 "metadata": {
  "language_info": {
   "codemirror_mode": {
    "name": "ipython",
    "version": 3
   },
   "file_extension": ".py",
   "mimetype": "text/x-python",
   "name": "python",
   "nbconvert_exporter": "python",
   "pygments_lexer": "ipython3",
   "version": "3.8.5-final"
  },
  "orig_nbformat": 2,
  "kernelspec": {
   "name": "python3",
   "display_name": "Python 3"
  }
 },
 "nbformat": 4,
 "nbformat_minor": 2,
 "cells": [
  {
   "cell_type": "code",
   "execution_count": 1,
   "metadata": {
    "tags": []
   },
   "outputs": [],
   "source": [
    "from lxml import etree\n",
    "import re \n",
    "from pprint import pprint\n",
    "\n",
    "et = etree.parse(\"evpn_data.xml\")\n",
    "#print(etree.tostring(et, pretty_print=True).decode())"
   ]
  },
  {
   "cell_type": "code",
   "execution_count": 2,
   "metadata": {},
   "outputs": [
    {
     "output_type": "stream",
     "name": "stdout",
     "text": [
      "[{'vlan': '20', 'vni': '10020'}, {'vlan': '30', 'vni': '10030'}, {'vlan': '101', 'vni': '900001'}]\n"
     ]
    }
   ],
   "source": [
    "# get existed vlans with vxlan (accEncap attribute) \n",
    "# and init evpn_data object\n",
    "evpn_data = []\n",
    "bd_list = et.xpath('.//BD-list[.//accEncap]')\n",
    "\n",
    "for bd in bd_list:\n",
    "    evpn = dict()\n",
    "    evpn[\"vlan\"] = bd.findtext(\"fabEncap\").split(\"-\")[1]\n",
    "    evpn[\"vni\"] = bd.findtext(\"accEncap\").split(\"-\")[1]\n",
    "    evpn_data.append(evpn)\n",
    "print(evpn_data)\n"
   ]
  },
  {
   "cell_type": "code",
   "execution_count": 3,
   "metadata": {},
   "outputs": [],
   "source": [
    "# enrich evpn_data with svi options: mtu, vrf, descr\n",
    "# ipv4 options: ip_address\n",
    "# hmm options: anycastGW\n",
    "# eps options (nve1): mcastGroup, suppressARP \n",
    "# evpn options (rd/rt): rd, rtt_import, rtt_export\n",
    "for item in evpn_data:    \n",
    "    vlan = f'vlan{item[\"vlan\"]}'\n",
    "    vni = item[\"vni\"]\n",
    "    vxlan = f'vxlan-{vni}'\n",
    "\n",
    "    svi = et.xpath(f'.//svi-items/If-list[.//id=\"{vlan}\"]')[0]\n",
    "    item[\"mtu\"] = svi.findtext(\"mtu\")\n",
    "    vrf = svi.xpath('.//rtvrfMbr-items/tDn/text()')[0]\n",
    "    item[\"vrf\"] = re.split('[\\[\\]]', vrf)[1].split('=')[1].strip('\\'')    \n",
    "    descr = svi.findtext(\"descr\")\n",
    "    if descr:\n",
    "        item[\"descr\"] = descr\n",
    "\n",
    "    ipv4item = et.xpath(f'.//if-items/If-list[.//id=\"{vlan}\"]')[0]\n",
    "    ip_address = ipv4item.xpath('.//addr-items/Addr-list/addr/text()')\n",
    "    if ip_address:\n",
    "        item[\"ip_address\"] = ip_address[0]\n",
    "    \n",
    "    hmm = et.xpath(f'.//hmm-items/fwdinst-items/if-items/FwdIf-list[id=\"{vlan}\" and mode=\"anycastGW\"]')    \n",
    "    if hmm:\n",
    "        item[\"anycastGW\"] = True\n",
    "\n",
    "    eps = et.xpath(f'.//eps-items/epId-items/Ep-list[epId=1]/nws-items/vni-items/Nw-list[vni={vni} and associateVrfFlag=\"false\"]')\n",
    "    if eps:\n",
    "        item[\"mcastGroup\"] = eps[0].findtext(\"mcastGroup\")\n",
    "        item[\"suppressARP\"] = eps[0].findtext(\"suppressARP\")\n",
    "\n",
    "    evpn = et.xpath(f'.//evpn-items/bdevi-items/BDEvi-list[encap=\"{vxlan}\"]')\n",
    "    if evpn:\n",
    "        item[\"rd\"] = evpn[0].findtext(\"rd\")\n",
    "        item[\"rtt_import\"] = evpn[0].xpath('.//rttp-items/RttP-list[type=\"import\"]/ent-items/RttEntry-list/rtt/text()')\n",
    "        item[\"rtt_export\"] = evpn[0].xpath('.//rttp-items/RttP-list[type=\"export\"]/ent-items/RttEntry-list/rtt/text()')\n",
    "        \n"
   ]
  },
  {
   "cell_type": "code",
   "execution_count": 4,
   "metadata": {},
   "outputs": [
    {
     "output_type": "stream",
     "name": "stdout",
     "text": [
      "[{'anycastGW': True,\n  'descr': 'anycast svi evpn20',\n  'ip_address': '10.0.20.254/24',\n  'mcastGroup': '230.1.1.1',\n  'mtu': '1500',\n  'rd': 'rd:unknown:0:0',\n  'rtt_export': ['route-target:unknown:0:0'],\n  'rtt_import': ['route-target:unknown:0:0'],\n  'suppressARP': 'off',\n  'vlan': '20',\n  'vni': '10020',\n  'vrf': 'Tenant-1'},\n {'anycastGW': True,\n  'ip_address': '10.0.30.254/24',\n  'mcastGroup': '230.1.1.1',\n  'mtu': '1500',\n  'rd': 'rd:unknown:0:0',\n  'rtt_export': ['route-target:unknown:0:0'],\n  'rtt_import': ['route-target:unknown:0:0'],\n  'suppressARP': 'off',\n  'vlan': '30',\n  'vni': '10030',\n  'vrf': 'Tenant-1'},\n {'descr': 'Tenant-1 l3vni',\n  'mtu': '1500',\n  'vlan': '101',\n  'vni': '900001',\n  'vrf': 'Tenant-1'}]\n"
     ]
    }
   ],
   "source": [
    "pprint(evpn_data)\n"
   ]
  },
  {
   "cell_type": "code",
   "execution_count": 5,
   "metadata": {},
   "outputs": [
    {
     "output_type": "stream",
     "name": "stdout",
     "text": [
      "[{'evpn20': {'anycastGW': True,\n             'descr': 'anycast svi evpn20',\n             'ip_address': '10.0.20.254/24',\n             'mcastGroup': '230.1.1.1',\n             'mtu': '1500',\n             'rd': 'rd:unknown:0:0',\n             'rtt_export': ['route-target:unknown:0:0'],\n             'rtt_import': ['route-target:unknown:0:0'],\n             'suppressARP': 'off',\n             'vlan': '20',\n             'vni': '10020',\n             'vrf': 'Tenant-1'}},\n {'evpn30': {'anycastGW': True,\n             'ip_address': '10.0.30.254/24',\n             'mcastGroup': '230.1.1.1',\n             'mtu': '1500',\n             'rd': 'rd:unknown:0:0',\n             'rtt_export': ['route-target:unknown:0:0'],\n             'rtt_import': ['route-target:unknown:0:0'],\n             'suppressARP': 'off',\n             'vlan': '30',\n             'vni': '10030',\n             'vrf': 'Tenant-1'}},\n {'evpn101': {'descr': 'Tenant-1 l3vni',\n              'mtu': '1500',\n              'vlan': '101',\n              'vni': '900001',\n              'vrf': 'Tenant-1'}}]\n"
     ]
    }
   ],
   "source": [
    "evpn_data = [ {f'evpn{item[\"vlan\"]}':item } for item in evpn_data]\n",
    "pprint(evpn_data)"
   ]
  },
  {
   "cell_type": "code",
   "execution_count": null,
   "metadata": {},
   "outputs": [],
   "source": []
  }
 ]
}