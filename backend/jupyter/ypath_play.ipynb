{
 "metadata": {
  "language_info": {
   "codemirror_mode": {
    "name": "ipython",
    "version": 3
   },
   "file_extension": ".py",
   "mimetype": "text/x-python",
   "name": "python",
   "nbconvert_exporter": "python",
   "pygments_lexer": "ipython3",
   "version": "3.8.5-final"
  },
  "orig_nbformat": 2,
  "kernelspec": {
   "name": "python3",
   "display_name": "Python 3"
  }
 },
 "nbformat": 4,
 "nbformat_minor": 2,
 "cells": [
  {
   "cell_type": "code",
   "execution_count": null,
   "metadata": {},
   "outputs": [],
   "source": [
    "from ypath import ypath_system, ppxml\n",
    "\n",
    "# set of evpn/vxlan related ypaths\n",
    "ypath_vlan = \"/bd-items/bd-items/BD-list[]/fabEncap=vlan-{vlan_id}\"\n",
    "ypath_svi = \"/intf-items/svi-items/If-list[]/id=vlan{vlan_id}\"\n",
    "ypath_ipv4 = \"/ipv4-items/inst-items/dom-items/Dom-list/name={vrf_name}/if-items/If-list[]/id=vlan{vlan_id}\"\n",
    "ypath_svianycast = \"/hmm-items/fwdinst-items/if-items/FwdIf-list[]/id=vlan{vlan_id}\"\n",
    "ypath_nve = \"/eps-items/epId-items/Ep-list/epId=1/nws-items/vni-items/Nw-list[]/vni={vni}\"\n",
    "ypath_evpn = \"/evpn-items/bdevi-items/BDEvi-list[]/encap=vxlan-{vni}\"\n",
    "\n",
    "ypath_vlan_conf = ypath_vlan + \"/name={vlan_name}/id={vlan_id}/BdState=active/adminSt=active/bridgeMode=mac/fwdCtrl=mdst-flood/fwdMode=bridge,route/mode=CE\"\n",
    "ypath_vxlan_conf = ypath_vlan + \"/name={vlan_name}/id={vlan_id}/accEncap=vxlan-{vni}/BdState=active/adminSt=active/bridgeMode=mac/fwdCtrl=mdst-flood/fwdMode=bridge,route/mode=CE\"\n",
    "ypath_svi_conf = ypath_svi + \"/mtu={mtu}/descr={description}/adminSt=up/rtvrfMbr-items/tDn=//System//inst-items//Inst-list[name='{vrf_name}']\"\n",
    "ypath_ipv4_conf = ypath_ipv4 + \"/addr-items/Addr-list/addr={ip_address}\"\n",
    "ypath_svianycast_conf = ypath_svianycast + \"/adminSt=enabled/mode=anycastGW\"\n",
    "ypath_nve_mgroup_conf = ypath_nve + \"/mcastGroup={mgroup}\"\n",
    "ypath_nve_ir_conf = ypath_nve + \"/IngRepl-items/proto=bgp\"\n",
    "\n",
    "ypath_evpn_conf = ypath_evpn + \"/rd=rd:unknown:0:0/rttp-items/RttP-list/type=export/ent-items/RttEntry-list/rtt=route-target:unknown:0:0\"\n",
    "# ypath2xml() can't create xml with multiple leafs so we have to add 2nd list separately \n",
    "# note: there is no '[]' hooks in the ypath so that the default operation \"merge\" will be used\n",
    "ypath_evpn_rtimport_conf = \"/evpn-items/bdevi-items/BDEvi-list/encap=vxlan-{vni}/rd=rd:unknown:0:0/rttp-items/RttP-list/type=import/ent-items/RttEntry-list/rtt=route-target:unknown:0:0\"\n"
   ]
  },
  {
   "cell_type": "code",
   "execution_count": null,
   "metadata": {},
   "outputs": [],
   "source": [
    "\n",
    "vlan_id = 300\n",
    "vlan_name = \"vlan300\"\n",
    "vni = 10300\n",
    "mtu = 9000\n",
    "description = \"blablab\"\n",
    "vrf_name = \"Tenant-1\"\n",
    "ip_address = '10.0.1.2//24'\n",
    "mgroup = '231.0.0.9'\n",
    "\n",
    "get_list = [ypath_vlan.format(vlan_id=vlan_id),\n",
    "                ypath_svi.format(vlan_id=vlan_id),\n",
    "                ypath_ipv4.format(vlan_id=vlan_id, vrf_name=vrf_name),\n",
    "                ypath_svianycast.format(vlan_id=vlan_id),\n",
    "                ypath_nve.format(vni=vni),\n",
    "                ypath_evpn.format(vni=vni)]\n",
    "\n",
    "conf_list = [ypath_vxlan_conf.format(vlan_id=vlan_id, vlan_name=vlan_name, vni=vni),\n",
    "                ypath_svi_conf.format(vlan_id=vlan_id, mtu=mtu, description=description, vrf_name=vrf_name),\n",
    "                ypath_ipv4_conf.format(vlan_id=vlan_id, vrf_name=vrf_name, ip_address=ip_address), \n",
    "                ypath_svianycast_conf.format(vlan_id=vlan_id),\n",
    "                ypath_nve_mgroup_conf.format(vni=vni, mgroup=mgroup),\n",
    "                ypath_evpn_conf.format(vni=vni),\n",
    "                ypath_evpn_rtimport_conf.format(vni=vni)]\n",
    "\n",
    "get_xml = ypath_system(get_list)           \n",
    "\n",
    "delete_xml = \"<config>\" + ypath_system(get_list, operation=\"remove\") + \"</config>\"           \n",
    "\n",
    "conf_xml = \"<config>\" + ypath_system(conf_list, operation=\"replace\") + \"</config>\"\n",
    "     \n",
    "              "
   ]
  },
  {
   "cell_type": "code",
   "execution_count": null,
   "metadata": {},
   "outputs": [],
   "source": [
    "#ppxml(get_xml)\n",
    "#ppxml(conf_xml)\n",
    "#ppxml(delete_xml)"
   ]
  },
  {
   "cell_type": "code",
   "execution_count": null,
   "metadata": {},
   "outputs": [],
   "source": [
    "from scrapli_netconf.driver import NetconfScrape\n",
    "\n",
    "def config_scrapli_netconf(conn, config, datastore='running'):    \n",
    "    response = conn.edit_config(config=config, target=datastore)\n",
    "    return response\n",
    "\n",
    "def get_scrapli_netconf(conn, filter_):\n",
    "    response = conn.get(filter_=filter_, filter_type=\"subtree\")\n",
    "    return response\n",
    "\n",
    "\n",
    "my_device = {\n",
    "    \"host\": \"192.168.99.91\",\n",
    "    \"auth_username\": \"apiuser\",\n",
    "    \"auth_password\": \"apipassword\",\n",
    "    \"auth_strict_key\": False,        \n",
    "}\n"
   ]
  },
  {
   "cell_type": "code",
   "execution_count": null,
   "metadata": {},
   "outputs": [],
   "source": [
    "with NetconfScrape(**my_device) as conn:\n",
    "    print(\"************** creating evpn ******************\")\n",
    "\n",
    "    resp = config_scrapli_netconf(conn, conf_xml)    \n",
    "    print(f\"{resp.result = }\")\n",
    "\n",
    "    print(\"\\n*************** check evpn *********************\")\n",
    "    \n",
    "    resp = get_scrapli_netconf(conn, get_xml)\n",
    "    print(resp.result)\n",
    "    \n",
    "    "
   ]
  },
  {
   "cell_type": "code",
   "execution_count": null,
   "metadata": {},
   "outputs": [],
   "source": [
    "with NetconfScrape(**my_device) as conn:\n",
    "    print(\"\\n*************** delete evpn *********************\")\n",
    "    \n",
    "    resp = config_scrapli_netconf(conn, delete_xml)            \n",
    "    print(resp.result)\n",
    "\n",
    "    print(\"\\n*************** check evpn again *********************\")\n",
    "    \n",
    "    resp = get_scrapli_netconf(conn, get_xml)\n",
    "    print(resp.result)"
   ]
  }
 ]
}